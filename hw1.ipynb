{
 "cells": [
  {
   "cell_type": "markdown",
   "metadata": {},
   "source": [
    "# Homework 1: Linear regression"
   ]
  },
  {
   "cell_type": "markdown",
   "metadata": {},
   "source": [
    "## Exercise 2"
   ]
  },
  {
   "cell_type": "markdown",
   "metadata": {},
   "source": [
    "In this exercise, we demonstrate OLS linear regression on a second order polynomial with normally distributed stochastic noise."
   ]
  },
  {
   "cell_type": "code",
   "execution_count": 2,
   "metadata": {},
   "outputs": [],
   "source": [
    "import numpy as np, matplotlib.pyplot as plt, random\n",
    "from sklearn.linear_model import LinearRegression, r2_score as r2"
   ]
  },
  {
   "cell_type": "code",
   "execution_count": 33,
   "metadata": {},
   "outputs": [
    {
     "data": {
      "image/png": "[encoded data removed]",
      "text/plain": [
       "<Figure size 432x288 with 1 Axes>"
      ]
     },
     "metadata": {
      "needs_background": "light"
     },
     "output_type": "display_data"
    }
   ],
   "source": [
    "# initializing data and constructing functions\n",
    "np.random.seed(42)\n",
    "polynomial = lambda x, noise_coeff: 5*x**2 + 0.1*np.random.randn(100, 1) # true function + noise\n",
    "x = np.random.rand(100, 1)\n",
    "\n",
    "def MSE(y, y_pred):\n",
    "    '''\n",
    "    The MSE method is tested against the Scikit-Learn implementation, \n",
    "    and only returns the calculated value if the two results agree.\n",
    "    '''\n",
    "    from sklearn.metrics import mean_squared_error\n",
    "    \n",
    "    n = float(y[:, 0].shape[0])\n",
    "    score = np.sum((y-y_pred)**2)/n\n",
    "    sk_MSE = mean_squared_error(y, y_pred)\n",
    "    \n",
    "    if np.abs(score - sk_MSE) < 1e-4:\n",
    "        return score\n",
    "    else:\n",
    "        return 'Incorrect MSE calculation'\n",
    "\n",
    "def R2(y, y_pred):\n",
    "    '''\n",
    "    The R2 method is tested against the Scikit-Learn implementation, \n",
    "    and only returns the calculated value if the two results agree.\n",
    "    '''\n",
    "    from sklearn.metrics import r2_score\n",
    "    \n",
    "    def R2(y, y_pred):\n",
    "    y_mean = np.mean(y)\n",
    "    SS_res = np.sum((y-y_pred)**2)\n",
    "    SS_reg = np.sum((y-y_mean)**2)\n",
    "    score = 1 - SS_res/SS_reg\n",
    "    sk_R2 = r2_score(y, y_pred)\n",
    "    \n",
    "    if np.abs(score - sk_R2) < 1e-4:\n",
    "        return score\n",
    "    else:\n",
    "        return 'Incorrect R2 calculation'\n",
    "\n",
    "\n",
    "def OLS_compare(choice, noise_coeff):\n",
    "    y = polynomial(x, noise_coeff)\n",
    "    plt.scatter(x, y, color='b')\n",
    "    plt.show() # plot raw data\n",
    "    \n",
    "\n",
    "X = np.stack((x**0, x**1, x**2), axis=1)[:, :, 0] #Design matrix"
   ]
  },
  {
   "cell_type": "markdown",
   "metadata": {},
   "source": [
    "## OLS regression"
   ]
  },
  {
   "cell_type": "markdown",
   "metadata": {},
   "source": [
    "As shown in the lecture notes, the regression coefficients are found by\n",
    "\\begin{equation}\n",
    "\\pmb{\\beta} = \\left( \\pmb{X}^T \\pmb{X}\\right)^{-1}\\pmb{X}^T\\pmb{y},\n",
    "\\end{equation}\n",
    "and we find the fitted function by\n",
    "\\begin{equation}\n",
    "\\tilde{\\pmb{y}} = \\pmb{X \\beta}\n",
    "\\end{equation}"
   ]
  },
  {
   "cell_type": "code",
   "execution_count": 4,
   "metadata": {},
   "outputs": [
    {
     "name": "stdout",
     "output_type": "stream",
     "text": [
      "(3, 1)\n",
      "Polynomial coefficients \n",
      " [[ 0.05614027]\n",
      " [-0.27222412]\n",
      " [ 5.23242548]]\n"
     ]
    }
   ],
   "source": [
    "beta = np.linalg.inv(X.T.dot(X)).dot(X.T.dot(y))\n",
    "print (beta.shape)\n",
    "ynew = X.dot(beta)\n",
    "print ('Polynomial coefficients \\n', beta)"
   ]
  },
  {
   "cell_type": "code",
   "execution_count": 32,
   "metadata": {},
   "outputs": [
    {
     "data": {
      "image/png": "[encoded data removed]",
      "text/plain": [
       "<Figure size 432x288 with 1 Axes>"
      ]
     },
     "metadata": {
      "needs_background": "light"
     },
     "output_type": "display_data"
    }
   ],
   "source": [
    "plt.scatter(x, y, color='b')\n",
    "i = np.argsort(x[:, 0])\n",
    "x_sort = x[i, 0]\n",
    "y_sort = ynew[i, 0]\n",
    "plt.plot(x_sort, y_sort, color='r')\n",
    "plt.show()\n"
   ]
  },
  {
   "cell_type": "markdown",
   "metadata": {},
   "source": [
    "The Scikit-learn library has a neat function for performing the regression:  "
   ]
  },
  {
   "cell_type": "code",
   "execution_count": 14,
   "metadata": {},
   "outputs": [
    {
     "name": "stdout",
     "output_type": "stream",
     "text": [
      "[[ 0.        ]\n",
      " [-0.27222412]\n",
      " [ 5.23242548]]\n"
     ]
    }
   ],
   "source": [
    "\n",
    "reg = LinearRegression().fit(X, y)\n",
    "beta_sk = reg.coef_.T\n",
    "print (beta_sk)\n",
    "y_sk = X.dot(beta_sk)"
   ]
  },
  {
   "cell_type": "markdown",
   "metadata": {},
   "source": [
    "We see that the first and second order coefficients are the same in both methods and that both models produce a first order coefficient, but the Scikit-Learn algorithm manages to correctly fit a model without a constant term. "
   ]
  },
  {
   "cell_type": "code",
   "execution_count": 7,
   "metadata": {},
   "outputs": [
    {
     "name": "stdout",
     "output_type": "stream",
     "text": [
      "0.010923666779281693 0.007771936663502366\n"
     ]
    }
   ],
   "source": [
    "from sklearn.metrics import mean_squared_error as mse, r2_score as r2\n",
    "mse_sk = mse(y, y_sk)\n",
    "mse_ynew = mse(y, ynew)\n",
    "print (mse_sk, mse_ynew)"
   ]
  },
  {
   "cell_type": "code",
   "execution_count": 8,
   "metadata": {},
   "outputs": [
    {
     "name": "stdout",
     "output_type": "stream",
     "text": [
      "0.010923666779281693 0.007771936663502366\n"
     ]
    }
   ],
   "source": [
    "def MSE(y, y_pred):\n",
    "    n = float(y[:, 0].shape[0])\n",
    "    return np.sum((y-y_pred)**2)/n\n",
    "MSE_sk = MSE(y, y_sk)\n",
    "MSE_ynew = MSE(y, ynew)\n",
    "print (MSE_sk, MSE_ynew)"
   ]
  },
  {
   "cell_type": "markdown",
   "metadata": {},
   "source": [
    "Despite the fact that the coefficients produced by the scikit algorithm is algebraically more similar to the true function, the mean squared error is larger than for the direcly implemented least square algorithm."
   ]
  },
  {
   "cell_type": "code",
   "execution_count": 9,
   "metadata": {},
   "outputs": [
    {
     "name": "stdout",
     "output_type": "stream",
     "text": [
      "0.010923666779281693 0.007771936663502366\n"
     ]
    }
   ],
   "source": [
    "r2_sk = r2(y, y_sk)\n",
    "r2_ynew = r2(y, ynew)\n",
    "print (mse_sk, mse_ynew, '\\n' , )"
   ]
  },
  {
   "cell_type": "code",
   "execution_count": 29,
   "metadata": {},
   "outputs": [
    {
     "name": "stdout",
     "output_type": "stream",
     "text": [
      " Direct R2: \n",
      " Homebrew: 0.9964562915831219 \n",
      " Scikit-learn: 0.9950192221598126 \n",
      "\n",
      " Scikit-Learn R2: \n",
      " Homebrew: 0.9964562915831219 \n",
      " Scikit-Learn: 0.9950192221598126\n"
     ]
    }
   ],
   "source": [
    "def R2(y, y_pred):\n",
    "    y_mean = np.mean(y)\n",
    "    SS_res = np.sum((y-y_pred)**2)\n",
    "    SS_reg = np.sum((y-y_mean)**2)\n",
    "    return 1 - SS_res/SS_reg\n",
    "print (' Direct R2: \\n Homebrew:', R2(y, ynew),'\\n Scikit-learn:',R2(y, y_sk), '\\n')\n",
    "print (' Scikit-Learn R2: \\n Homebrew:', r2(y, ynew), '\\n Scikit-Learn:', R2(y, y_sk))"
   ]
  },
  {
   "cell_type": "markdown",
   "metadata": {},
   "source": [
    "The R2 score-algorithm yields the same results as the Scikit learn implementation. The difference in R2 scores are negligible, and both are quite close to one, so the goodness of the directly implemented fit is comparable to the the Scikit-Learn method. Both the R2 and MSE scores are in fact a tiny bit better for the direct implementation. The source of this slight difference is unkown to me as I haven't studied the code in the Sckit-Learn Package, which I assume to be outside of the scope of the exercise."
   ]
  },
  {
   "cell_type": "code",
   "execution_count": null,
   "metadata": {},
   "outputs": [],
   "source": []
  }
 ],
 "metadata": {
  "kernelspec": {
   "display_name": "Python 3",
   "language": "python",
   "name": "python3"
  },
  "language_info": {
   "codemirror_mode": {
    "name": "ipython",
    "version": 3
   },
   "file_extension": ".py",
   "mimetype": "text/x-python",
   "name": "python",
   "nbconvert_exporter": "python",
   "pygments_lexer": "ipython3",
   "version": "3.7.1"
  }
 },
 "nbformat": 4,
 "nbformat_minor": 2
}
